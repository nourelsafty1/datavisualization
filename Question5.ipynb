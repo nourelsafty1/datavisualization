{
  "nbformat": 4,
  "nbformat_minor": 0,
  "metadata": {
    "colab": {
      "provenance": [],
      "authorship_tag": "ABX9TyN3TuIq8XiQnv1hZZdYtPA2",
      "include_colab_link": true
    },
    "kernelspec": {
      "name": "python3",
      "display_name": "Python 3"
    },
    "language_info": {
      "name": "python"
    }
  },
  "cells": [
    {
      "cell_type": "markdown",
      "metadata": {
        "id": "view-in-github",
        "colab_type": "text"
      },
      "source": [
        "<a href=\"https://colab.research.google.com/github/nourelsafty1/datavisualization/blob/main/Question5.ipynb\" target=\"_parent\"><img src=\"https://colab.research.google.com/assets/colab-badge.svg\" alt=\"Open In Colab\"/></a>"
      ]
    },
    {
      "cell_type": "markdown",
      "source": [
        "**-)Question-5**\n",
        "\n",
        " What is the relationship between approximate cost for two and votes for the top 10 locations (by number of restaurants)?To examine how the approximate cost for two influences customer votes in the top 10 locations with the highest number of restaurants.\n"
      ],
      "metadata": {
        "id": "mvhhj8yuffdt"
      }
    },
    {
      "cell_type": "code",
      "execution_count": null,
      "metadata": {
        "id": "IFOGiTkVfXeu"
      },
      "outputs": [],
      "source": [
        "# Top 10 locations i.e locations with the highest number of resturants\n",
        "top_locations = data['location'].value_counts().head(10).index\n",
        "filtered_data = data[data['location'].isin(top_locations)]\n",
        "num_locations = len(top_locations)\n",
        "palette = sns.color_palette(\"hsv\", num_locations)\n",
        "sns.scatterplot(x=\"votes\", y=\"approx_cost(for two people)\", hue=\"location\", data=filtered_data, palette=palette)\n",
        "plt.title(\"Cost for Two vs. Votes by Top 10 Locations\")\n",
        "plt.xlabel(\"Number of Votes\")\n",
        "plt.ylabel(\"Approximate Cost for Two\")\n",
        "plt.legend(bbox_to_anchor=(1.05, 1), loc='upper left')\n",
        "plt.show()\n"
      ]
    },
    {
      "cell_type": "markdown",
      "source": [
        "### **Insights :**\n",
        "After analyzing the scatter plot I could tell that restaurants with lower approximate costs for two(around 500 to 1500) receive more votes, which indicates that affordability is a big factor in resturant popularity. High-cost restaurants with aproximate cost for two >2000 are less popular overall and have lower votes.\n"
      ],
      "metadata": {
        "id": "0_LFIbF68OT3"
      }
    }
  ]
}