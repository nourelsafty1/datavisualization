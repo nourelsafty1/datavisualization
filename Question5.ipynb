{
  "nbformat": 4,
  "nbformat_minor": 0,
  "metadata": {
    "colab": {
      "provenance": [],
      "authorship_tag": "ABX9TyOAGyaFS5ymSnSKDuzTGkpb",
      "include_colab_link": true
    },
    "kernelspec": {
      "name": "python3",
      "display_name": "Python 3"
    },
    "language_info": {
      "name": "python"
    }
  },
  "cells": [
    {
      "cell_type": "markdown",
      "metadata": {
        "id": "view-in-github",
        "colab_type": "text"
      },
      "source": [
        "<a href=\"https://colab.research.google.com/github/nourelsafty1/datavisualization/blob/main/Question5.ipynb\" target=\"_parent\"><img src=\"https://colab.research.google.com/assets/colab-badge.svg\" alt=\"Open In Colab\"/></a>"
      ]
    },
    {
      "cell_type": "markdown",
      "source": [
        "**-)Question-5**\n",
        "\n",
        "How are restaurant ratings distributed across different approximate cost categories for two people? This analysis will help determine if there is a correlation between higher costs and higher or lower ratings for restaurants.\n"
      ],
      "metadata": {
        "id": "mvhhj8yuffdt"
      }
    },
    {
      "cell_type": "code",
      "execution_count": null,
      "metadata": {
        "id": "IFOGiTkVfXeu"
      },
      "outputs": [],
      "source": [
        "# Set the size of the figure to make the plot wide for better readability\n",
        "plt.figure(figsize=(20, 6))\n",
        "\n",
        "# Create a boxplot to visualize the distribution of ratings ('rate') across different 'approx_cost(for two people)' categories\n",
        "sns.boxplot(x=\"approx_cost(for two people)\", y=\"rate\", data=data, palette=\"viridis\")\n",
        "\n",
        "plt.title(\"Distribution of Ratings by Approximate Cost (for Two People)\", fontsize=16)\n",
        "plt.xlabel(\"Approximate Cost (for Two People)\", fontsize=14)\n",
        "plt.ylabel(\"Ratings\", fontsize=14)\n",
        "plt.xticks(rotation=45)\n",
        "plt.show()\n"
      ]
    },
    {
      "cell_type": "code",
      "source": [
        "#plot histogram\n",
        "plt.figure(figsize=(10, 6))\n",
        "sns.histplot(data=data, x=\"rate\", hue=\"approx_cost(for two people)\", multiple=\"stack\", palette=\"viridis\", bins=10)\n",
        "plt.title(\"Histogram of Ratings by Price Range\", fontsize=16)\n",
        "plt.xlabel(\"Ratings\", fontsize=14)\n",
        "plt.ylabel(\"Count\", fontsize=14)\n",
        "plt.legend(title=\"Price Range\")\n",
        "plt.show()\n"
      ],
      "metadata": {
        "id": "ip2jx5KUfkFq"
      },
      "execution_count": null,
      "outputs": []
    },
    {
      "cell_type": "code",
      "source": [
        "# Group the data by the 'rate' (ratings) and calculate the mean of 'approx_cost(for two people)' for each rating\n",
        "average_ratings = data.groupby(\"rate\")[\"approx_cost(for two people)\"].mean().reset_index()\n",
        "\n",
        "# Set the figure size to make the plot wide to show all values\n",
        "plt.figure(figsize=(20, 6))\n",
        "\n",
        "# Create a bar plot to show the average cost for two people ('approx_cost(for two people)') for each rating ('rate')\n",
        "sns.barplot(x=\"rate\", y=\"approx_cost(for two people)\", data=average_ratings, palette=\"viridis\")\n",
        "\n",
        "plt.title(\"Average Ratings by Approximate Cost (for Two People)\", fontsize=16)\n",
        "plt.xlabel(\"Rate\", fontsize=14)\n",
        "plt.ylabel(\"Approximate Cost (for Two People)\", fontsize=14)\n",
        "plt.show()\n"
      ],
      "metadata": {
        "id": "yCpxWEtefrC1"
      },
      "execution_count": null,
      "outputs": []
    },
    {
      "cell_type": "code",
      "source": [
        "#Group the data by 'approx_cost(for two people)' and aggregate to calculate:\n",
        "#The average rating ('avg_rating') for each cost category.\n",
        "# The total number of reviews ('review_count') for each cost category.\n",
        "bubble_data = data.groupby(\"approx_cost(for two people)\").agg(\n",
        "    avg_rating=(\"rate\", \"mean\"),\n",
        "    review_count=(\"votes\", \"sum\")\n",
        ").reset_index() # Reset the index to get a clean DataFrame\n",
        "\n",
        "\n",
        "plt.figure(figsize=(10, 6))\n",
        "\n",
        "#Create the bubble plot using sns.scatterplot()\n",
        "#alpha=0.6 makes the bubbles slightly transparent for better visibility.\n",
        "sns.scatterplot(\n",
        "    x=\"approx_cost(for two people)\",\n",
        "    y=\"avg_rating\",\n",
        "    size=\"review_count\",\n",
        "    sizes=(100, 1000),\n",
        "    data=bubble_data,\n",
        "    alpha=0.6,\n",
        "    palette=\"viridis\",\n",
        ")\n",
        "\n",
        "plt.title(\"Bubble Plot: Average Rating vs Approximate Cost (for Two People)\", fontsize=16)\n",
        "plt.xlabel(\"Approximate Cost (for Two People)\", fontsize=14)\n",
        "plt.ylabel(\"Average Rating\", fontsize=14)\n",
        "plt.show()\n"
      ],
      "metadata": {
        "id": "NOq_kvEIfx4u"
      },
      "execution_count": null,
      "outputs": []
    },
    {
      "cell_type": "code",
      "source": [
        "# Calculate correlation between numerical features like ratings, votes, and price range\n",
        "correlation_matrix = data[[\"rate\", \"votes\", \"approx_cost(for two people)\"]].corr()\n",
        "\n",
        "# Plot the heatmap\n",
        "plt.figure(figsize=(8, 6))\n",
        "sns.heatmap(correlation_matrix, annot=True, cmap=\"coolwarm\", vmin=-1, vmax=1)\n",
        "plt.title(\"Correlation Heatmap\", fontsize=16)\n",
        "plt.show()\n"
      ],
      "metadata": {
        "id": "tyuSiDYffy_f"
      },
      "execution_count": null,
      "outputs": []
    }
  ]
}