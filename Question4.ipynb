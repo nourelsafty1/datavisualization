{
  "nbformat": 4,
  "nbformat_minor": 0,
  "metadata": {
    "colab": {
      "provenance": [],
      "authorship_tag": "ABX9TyM06Hb50tcNzVcyubfnlRSm",
      "include_colab_link": true
    },
    "kernelspec": {
      "name": "python3",
      "display_name": "Python 3"
    },
    "language_info": {
      "name": "python"
    }
  },
  "cells": [
    {
      "cell_type": "markdown",
      "metadata": {
        "id": "view-in-github",
        "colab_type": "text"
      },
      "source": [
        "<a href=\"https://colab.research.google.com/github/nourelsafty1/datavisualization/blob/main/Question4.ipynb\" target=\"_parent\"><img src=\"https://colab.research.google.com/assets/colab-badge.svg\" alt=\"Open In Colab\"/></a>"
      ]
    },
    {
      "cell_type": "markdown",
      "source": [
        "4- What is the distribution of the number of votes across restaurants of different types (Casual Dining, Fine Dining, etc.)? This will help reveal if certain types of restaurants tend to accumulate more reviews and how they compare in terms of engagement\n"
      ],
      "metadata": {
        "id": "wobYyB05bkdJ"
      }
    },
    {
      "cell_type": "code",
      "source": [
        "# Aggregate data for the bubble chart\n",
        "bubble_data = data.groupby('rest_type').agg( avg_votes=('votes', 'mean'), count=('rest_type', 'size')).reset_index()\n",
        "\n",
        "plt.figure(figsize=(30, 30))\n",
        "sns.scatterplot(data=bubble_data,x='avg_votes', y='rest_type', size='count', sizes=(50, 300), alpha=0.7, legend=False, color='teal')\n",
        "plt.title('Average Votes vs. Restaurant Type with Size by Count', fontsize=20)\n",
        "plt.xlabel('Average Number of Votes', fontsize=18)\n",
        "plt.ylabel('Restaurant Type', fontsize=16)\n",
        "plt.xticks(fontsize=12)\n",
        "plt.yticks(fontsize=12)\n",
        "plt.tight_layout()\n",
        "plt.show()"
      ],
      "metadata": {
        "id": "3AqbY2vwbgpP"
      },
      "execution_count": null,
      "outputs": []
    },
    {
      "cell_type": "code",
      "execution_count": null,
      "metadata": {
        "id": "Z-iVWK_IbE0P"
      },
      "outputs": [],
      "source": [
        "average_votes = data.groupby(\"rest_type\")[\"votes\"].mean().reset_index()\n",
        "average_votes = average_votes.rename(columns={\"votes\": \"average_votes\"})\n",
        "\n",
        "plt.figure(figsize=(40, 6))\n",
        "sns.boxplot(x=\"rest_type\",  y=\"average_votes\",  data=average_votes,  hue=\"rest_type\",  palette=\"viridis\", dodge=False,legend=False)\n",
        "plt.title(\"Box Plot of Average Votes by Restaurant Type\", fontsize=14)\n",
        "plt.xlabel(\"Restaurant Type\", fontsize=12)\n",
        "plt.ylabel(\"Average Votes\", fontsize=12)\n",
        "plt.xticks(rotation=45)\n",
        "plt.show()"
      ]
    },
    {
      "cell_type": "code",
      "source": [
        "plt.figure(figsize=(48, 8))\n",
        "avg_votes_df = avg_votes.reset_index()\n",
        "avg_votes_df.columns = ['rest_type', 'average_votes']\n",
        "\n",
        "sns.barplot( data=avg_votes_df, x='rest_type',y='average_votes',hue='rest_type',  palette=\"viridis\",dodge=False,  legend=False )\n",
        "\n",
        "plt.title(\"Average Votes by Restaurant Type\", fontsize=14)\n",
        "plt.xlabel(\"Restaurant Type\", fontsize=12)\n",
        "plt.ylabel(\"Average Votes\", fontsize=12)\n",
        "plt.xticks(rotation=45)\n",
        "plt.show()"
      ],
      "metadata": {
        "id": "kMPf4VcIbZ0o"
      },
      "execution_count": null,
      "outputs": []
    }
  ]
}