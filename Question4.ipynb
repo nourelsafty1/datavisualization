{
  "nbformat": 4,
  "nbformat_minor": 0,
  "metadata": {
    "colab": {
      "provenance": [],
      "authorship_tag": "ABX9TyNFZM5w+UYixZ8Mem7BVVuL",
      "include_colab_link": true
    },
    "kernelspec": {
      "name": "python3",
      "display_name": "Python 3"
    },
    "language_info": {
      "name": "python"
    }
  },
  "cells": [
    {
      "cell_type": "markdown",
      "metadata": {
        "id": "view-in-github",
        "colab_type": "text"
      },
      "source": [
        "<a href=\"https://colab.research.google.com/github/nourelsafty1/datavisualization/blob/main/Question4.ipynb\" target=\"_parent\"><img src=\"https://colab.research.google.com/assets/colab-badge.svg\" alt=\"Open In Colab\"/></a>"
      ]
    },
    {
      "cell_type": "markdown",
      "source": [
        "4- What is the distribution of the number of votes across restaurants of different types (Casual Dining, Fine Dining, etc.)? This will help reveal if certain types of restaurants tend to accumulate more reviews and how they compare in terms of engagement\n"
      ],
      "metadata": {
        "id": "wobYyB05bkdJ"
      }
    },
    {
      "cell_type": "code",
      "source": [
        "# Aggregating data for the bubble chart\n",
        "bubble_data = data.groupby('rest_type').agg(\n",
        "    avg_votes=('votes', 'mean'),\n",
        "    count=('rest_type', 'size')\n",
        ").reset_index()\n",
        "\n",
        "# Plotting the bubble chart\n",
        "plt.figure(figsize=(10, 8))\n",
        "sns.scatterplot(\n",
        "    data=bubble_data,\n",
        "    x='avg_votes',\n",
        "    y='rest_type',\n",
        "    size='count',\n",
        "    sizes=(50, 300),\n",
        "    alpha=0.7,\n",
        "    legend=False,\n",
        "    color='teal'\n",
        ")\n",
        "\n",
        "plt.title('Average Votes vs. Restaurant Type with Size by Count', fontsize=20)\n",
        "plt.xlabel('Average Number of Votes', fontsize=18)\n",
        "plt.ylabel('Restaurant Type', fontsize=16)\n",
        "plt.xticks(fontsize=12)\n",
        "plt.yticks(fontsize=12)\n",
        "plt.tight_layout()\n",
        "plt.show()"
      ],
      "metadata": {
        "id": "3AqbY2vwbgpP"
      },
      "execution_count": null,
      "outputs": []
    },
    {
      "cell_type": "code",
      "source": [
        "# Compute average votes for each restaurant type\n",
        "average_votes = data.groupby(\"rest_type\")[\"votes\"].mean().reset_index()\n",
        "average_votes = average_votes.rename(columns={\"votes\": \"average_votes\"})\n",
        "\n",
        "# Create the bar chart\n",
        "plt.figure(figsize=(12, 8))\n",
        "sns.barplot(\n",
        "    data=average_votes,  # Use the aggregated DataFrame\n",
        "    x=\"rest_type\",\n",
        "    y=\"average_votes\",\n",
        "    palette=\"viridis\"\n",
        ")\n",
        "\n",
        "# Add title and labels\n",
        "plt.title(\"Average Votes by Restaurant Type\", fontsize=14)\n",
        "plt.xlabel(\"Restaurant Type\", fontsize=12)\n",
        "plt.ylabel(\"Average Votes\", fontsize=12)\n",
        "plt.xticks(rotation=45)\n",
        "plt.show()"
      ],
      "metadata": {
        "id": "kMPf4VcIbZ0o"
      },
      "execution_count": null,
      "outputs": []
    }
  ]
}