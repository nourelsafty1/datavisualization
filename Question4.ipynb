{
  "nbformat": 4,
  "nbformat_minor": 0,
  "metadata": {
    "colab": {
      "provenance": [],
      "authorship_tag": "ABX9TyNdX30VlJVQ/ngY9sKbuMlC",
      "include_colab_link": true
    },
    "kernelspec": {
      "name": "python3",
      "display_name": "Python 3"
    },
    "language_info": {
      "name": "python"
    }
  },
  "cells": [
    {
      "cell_type": "markdown",
      "metadata": {
        "id": "view-in-github",
        "colab_type": "text"
      },
      "source": [
        "<a href=\"https://colab.research.google.com/github/nourelsafty1/datavisualization/blob/main/Question4.ipynb\" target=\"_parent\"><img src=\"https://colab.research.google.com/assets/colab-badge.svg\" alt=\"Open In Colab\"/></a>"
      ]
    },
    {
      "cell_type": "markdown",
      "source": [
        "**-)Question-4**\n",
        "\n",
        "\n",
        "What is the distribution of the number of votes across restaurants of different types? This will help reveal if certain types of restaurants tend to accumulate more reviews and how they compare in terms of engagement"
      ],
      "metadata": {
        "id": "wobYyB05bkdJ"
      }
    },
    {
      "cell_type": "code",
      "source": [
        "# Compute average votes for each restaurant type\n",
        "average_votes = data.groupby(\"rest_type\")[\"votes\"].mean().reset_index()\n",
        "average_votes = average_votes.rename(columns={\"votes\": \"average_votes\"})\n",
        "\n",
        "# Create the bar chart\n",
        "plt.figure(figsize=(18, 8))\n",
        "sns.barplot(  data=average_votes,x=\"rest_type\",y=\"average_votes\",palette=\"viridis\")\n",
        "\n",
        "# Add title and labels\n",
        "plt.title(\"Average Votes by Restaurant Type\", fontsize=14)\n",
        "plt.xlabel(\"Restaurant Type\", fontsize=12)\n",
        "plt.ylabel(\"Average Votes\", fontsize=12)\n",
        "plt.xticks(rotation=45)\n",
        "plt.show()\n",
        "plt.show()"
      ],
      "metadata": {
        "id": "3AqbY2vwbgpP"
      },
      "execution_count": null,
      "outputs": []
    },
    {
      "cell_type": "code",
      "source": [
        "# Aggregating data for the bubble chart\n",
        "bubble_data = data.groupby('rest_type').agg(avg_votes=('votes', 'mean'),count=('rest_type', 'size')).reset_index()\n",
        "\n",
        "# Plotting the bubble chart using scatterplot\n",
        "plt.figure(figsize=(25, 6))\n",
        "sns.scatterplot(data=bubble_data,x='rest_type',y='avg_votes', size='count',sizes=(100, 700), alpha=0.8, legend=False, color='teal')\n",
        "\n",
        "plt.title('Average Votes vs. Restaurant Type with Size by Count', fontsize=20)\n",
        "plt.xlabel('Restaurant Type', fontsize=18)\n",
        "plt.ylabel('Average Number of Votes', fontsize=16)\n",
        "plt.xticks(fontsize=12)\n",
        "plt.yticks(fontsize=12)\n",
        "plt.tight_layout()\n",
        "plt.show()"
      ],
      "metadata": {
        "id": "kMPf4VcIbZ0o"
      },
      "execution_count": null,
      "outputs": []
    },
    {
      "cell_type": "markdown",
      "source": [
        "**BarPlot :**\n",
        "\n",
        "- shows that microbreweries , clubs and pubs, these restaurant types have the highest average votes in the chart, and shows that pop up , confectionery and dhaba have the lowest average votes in the chart\n",
        "\n",
        "**Bubble Plot :**\n",
        "\n",
        "- Microbrewery have the highest average number of votes, confirming barplot chart, also shows that microbrewery have low count of resturants\n",
        "\n",
        "- Quick Bites have a high count of restaurants but fewer average votes.\n",
        "\n",
        "**-It allows for insights into engagement trends:**\n",
        "\n",
        "- High average votes are often associated with fewer, more specialized restaurants\n",
        "\n",
        "**Insights:**\n",
        "\n",
        "- The bar plot shows that restaurant types with highest average votes , and bubble plot highlights how different restaurant types compare in terms of both average votes and the number of restaurants.\n",
        "\n",
        "- Overall the analysis shows patterns in customer interest across different restaurant types.\n"
      ],
      "metadata": {
        "id": "FcC6vQwu7GPY"
      }
    }
  ]
}