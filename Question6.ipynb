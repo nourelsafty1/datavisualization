{
  "nbformat": 4,
  "nbformat_minor": 0,
  "metadata": {
    "colab": {
      "provenance": [],
      "authorship_tag": "ABX9TyP0BXa4q16aZgoWeB1AZI8W",
      "include_colab_link": true
    },
    "kernelspec": {
      "name": "python3",
      "display_name": "Python 3"
    },
    "language_info": {
      "name": "python"
    }
  },
  "cells": [
    {
      "cell_type": "markdown",
      "metadata": {
        "id": "view-in-github",
        "colab_type": "text"
      },
      "source": [
        "<a href=\"https://colab.research.google.com/github/nourelsafty1/datavisualization/blob/main/Question6.ipynb\" target=\"_parent\"><img src=\"https://colab.research.google.com/assets/colab-badge.svg\" alt=\"Open In Colab\"/></a>"
      ]
    },
    {
      "cell_type": "markdown",
      "source": [
        "**-)Question-6**\n",
        "What is the relationship between restaurant ratings and the availability of table booking? Objective: To explore if allowing table reservations correlates with higher ratings or review volumes"
      ],
      "metadata": {
        "id": "J_jrGqXutaDk"
      }
    },
    {
      "cell_type": "code",
      "execution_count": null,
      "metadata": {
        "id": "nk3Q7yfutYFx"
      },
      "outputs": [],
      "source": [
        "#Create a box plot to display the distribution of ratings by table booking availability\n",
        "sns.boxplot(\n",
        "    x=\"book_table\",\n",
        "    y=\"rate\",\n",
        "    data=data,\n",
        "    palette=\"viridis\"\n",
        ")"
      ]
    },
    {
      "cell_type": "code",
      "source": [
        "#Group by 'table_booking' and calculate the mean rating for each group\n",
        "average_ratings = data.groupby(\"book_table\")[\"rate\"].mean().reset_index()\n",
        "\n",
        "\n",
        "#Create the bar plot\n",
        "sns.barplot(\n",
        "    x=\"book_table\",\n",
        "    y=\"rate\",\n",
        "    data=average_ratings,\n",
        "    palette=\"viridis\"\n",
        ")"
      ],
      "metadata": {
        "id": "juKgb_D2tijf"
      },
      "execution_count": null,
      "outputs": []
    },
    {
      "cell_type": "code",
      "source": [
        "#Group the data to calculate the average rating and total number of reviews for each table booking category\n",
        "bubble_data = data.groupby(\"book_table\").agg(\n",
        "    avg_rating=(\"rate\", \"mean\"),\n",
        "    review_count=(\"votes\", \"sum\")\n",
        ").reset_index()\n",
        "\n",
        "\n",
        "plt.figure(figsize=(10, 6))\n",
        "\n",
        "#Create the bubble plot using scatterplot\n",
        "sns.scatterplot(\n",
        "    x=\"avg_rating\",\n",
        "    y=\"book_table\",\n",
        "    size=\"review_count\",\n",
        "    sizes=(100, 1000),\n",
        "    data=bubble_data,\n",
        "    hue=\"book_table\",\n",
        "    palette=\"viridis\",\n",
        "    alpha=0.6\n",
        ")"
      ],
      "metadata": {
        "id": "zQ0Tbfs6tlr5"
      },
      "execution_count": null,
      "outputs": []
    },
    {
      "cell_type": "code",
      "source": [
        "plt.figure(figsize=(10, 6))\n",
        "\n",
        "#Create the histogram for restaurants that allow table bookings\n",
        "sns.histplot(\n",
        "    data[data[\"book_table\"] == \"Yes\"],\n",
        "    x=\"rate\",\n",
        "    kde=True,\n",
        "    color=\"green\",\n",
        "    label=\"Table Booking Available\"\n",
        ")\n",
        "\n",
        "# Step 3: Create the histogram for restaurants that do not allow table bookings\n",
        "sns.histplot(\n",
        "    data[data[\"book_table\"] == \"No\"],\n",
        "    x=\"rate\",\n",
        "    kde=True,\n",
        "    color=\"red\",\n",
        "    label=\"No Table Booking\"\n",
        ")\n",
        "\n",
        "plt.title(\"Distribution of Restaurant Ratings by Table Booking Availability\", fontsize=16)\n",
        "plt.xlabel(\"Ratings\", fontsize=14)\n",
        "plt.ylabel(\"Frequency\", fontsize=14)\n",
        "plt.legend(title=\"Table Booking\")\n",
        "plt.show()"
      ],
      "metadata": {
        "id": "_nIsAEMwt-mW"
      },
      "execution_count": null,
      "outputs": []
    }
  ]
}