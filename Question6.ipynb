{
  "nbformat": 4,
  "nbformat_minor": 0,
  "metadata": {
    "colab": {
      "provenance": [],
      "authorship_tag": "ABX9TyO73MxHrLOq+88MMB+dbqRP",
      "include_colab_link": true
    },
    "kernelspec": {
      "name": "python3",
      "display_name": "Python 3"
    },
    "language_info": {
      "name": "python"
    }
  },
  "cells": [
    {
      "cell_type": "markdown",
      "metadata": {
        "id": "view-in-github",
        "colab_type": "text"
      },
      "source": [
        "<a href=\"https://colab.research.google.com/github/nourelsafty1/datavisualization/blob/main/Question6.ipynb\" target=\"_parent\"><img src=\"https://colab.research.google.com/assets/colab-badge.svg\" alt=\"Open In Colab\"/></a>"
      ]
    },
    {
      "cell_type": "markdown",
      "source": [
        "### **-)Question-6**\n",
        "\n",
        " What is the relationship between restaurant ratings and the availability of table booking? Objective: To explore if allowing table reservations correlates with higher ratings or review volumes"
      ],
      "metadata": {
        "id": "J_jrGqXutaDk"
      }
    },
    {
      "cell_type": "code",
      "execution_count": null,
      "metadata": {
        "id": "nk3Q7yfutYFx"
      },
      "outputs": [],
      "source": [
        "#Group by 'table_booking' and calculate the mean rating for each group\n",
        "average_ratings = data.groupby(\"book_table\")[\"rate\"].mean().reset_index()\n",
        "\n",
        "#Create the bar plot\n",
        "sns.barplot(  x=\"book_table\",y=\"rate\",data=average_ratings,legend=False)\n"
      ]
    },
    {
      "cell_type": "code",
      "source": [
        "#Create a box plot to display the distribution of ratings by table booking availability\n",
        "sns.boxplot(\n",
        "    x=\"book_table\",\n",
        "    y=\"rate\",\n",
        "    data=data\n",
        ")"
      ],
      "metadata": {
        "id": "juKgb_D2tijf"
      },
      "execution_count": null,
      "outputs": []
    },
    {
      "cell_type": "code",
      "source": [
        "data = data[data[\"rate\"].notnull()]\n",
        "data[\"rate\"] = pd.to_numeric(data[\"rate\"], errors=\"coerce\")\n",
        "plt.figure(figsize=(10, 6))\n",
        "\n",
        "sns.histplot(\n",
        "    data=data,\n",
        "    x=\"rate\",\n",
        "    hue=\"book_table\",\n",
        "    kde=True,\n",
        "    palette=\"muted\",\n",
        "    bins=20,\n",
        "    alpha=0.6,\n",
        ")\n",
        "plt.title(\"Distribution of Ratings by Table Booking Availability\", fontsize=16)\n",
        "plt.xlabel(\"Ratings\", fontsize=12)\n",
        "plt.ylabel(\"Count\", fontsize=12)\n",
        "plt.legend(title=\"Table Booking\")\n",
        "plt.grid(axis=\"y\", linestyle=\"--\", alpha=0.7)\n",
        "\n",
        "plt.show()"
      ],
      "metadata": {
        "id": "zQ0Tbfs6tlr5"
      },
      "execution_count": null,
      "outputs": []
    },
    {
      "cell_type": "markdown",
      "source": [
        "### **BarPlot Insight:**\n",
        "\n",
        "**Ratings for Restaurants With Table Booking (Yes):**\n",
        "\n",
        "\n",
        "- restaurants offering table booking have a higher mean rating.\n",
        "\n",
        "\n",
        "**Ratings for Restaurants Without Table Booking (No):**\n",
        "\n",
        "- The average rating for restaurants that do not allow table bookings is lower compared to those that do.\n",
        "\n",
        "\n",
        "### **BoxPlot Insight:**\n",
        "\n",
        "\n",
        "\n",
        "**Ratings for Restaurants with Table Booking (Yes):**\n",
        "\n",
        "- There are a few outliers below rating (3.5) , but the overall ratings closer to the upper range.\n",
        "\n",
        "**Ratings for Restaurants without Table Booking (No):**\n",
        "\n",
        "- There are more outliers above (4.5) and below (3.0), but the overall ratings is closer to the middle range.\n",
        "\n",
        "\n",
        "### **Histogram Insigth:**\n",
        "-X-axis: Represents restaurant ratings (ranging from approximately 2 to 5).\n",
        "\n",
        "-Y-axis: Represents the count of restaurants for each rating interval.\n",
        "\n",
        "- Rating Distribution:\n",
        "\n",
        "The majority of ratings are clustered between 3.0 and 4.5, with a sharp peak around 3.5 to 4.0.\n",
        "\n",
        "- Effect of Table Booking:\n",
        "\n",
        "-Restaurants allowing table booking seem to have higher rating range (closer to 4 and above).\n",
        "\n",
        "-Those not having table bookings is closer to have range of ratings (3.0–3.5).\n",
        "\n",
        "\n",
        "### **Insight:**\n",
        "\n",
        "- Beside the outliers the data suggests that restaurants offering table reservations lead to receive higher and more consistent ratings compared to those that do not."
      ],
      "metadata": {
        "id": "70cyGv-X9-b0"
      }
    }
  ]
}